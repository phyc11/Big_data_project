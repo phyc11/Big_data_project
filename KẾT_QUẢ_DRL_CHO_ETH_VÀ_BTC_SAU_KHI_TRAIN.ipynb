{
  "nbformat": 4,
  "nbformat_minor": 0,
  "metadata": {
    "colab": {
      "provenance": [],
      "authorship_tag": "ABX9TyNwE2/Y5RDz2JbAxdgBq9bm",
      "include_colab_link": true
    },
    "kernelspec": {
      "name": "python3",
      "display_name": "Python 3"
    },
    "language_info": {
      "name": "python"
    }
  },
  "cells": [
    {
      "cell_type": "markdown",
      "metadata": {
        "id": "view-in-github",
        "colab_type": "text"
      },
      "source": [
        "<a href=\"https://colab.research.google.com/github/phyc11/Big_data_project/blob/main/K%E1%BA%BET_QU%E1%BA%A2_DRL_CHO_ETH_V%C3%80_BTC_SAU_KHI_TRAIN.ipynb\" target=\"_parent\"><img src=\"https://colab.research.google.com/assets/colab-badge.svg\" alt=\"Open In Colab\"/></a>"
      ]
    },
    {
      "cell_type": "code",
      "execution_count": null,
      "metadata": {
        "id": "LCbpiBWsUTvN"
      },
      "outputs": [],
      "source": [
        "\n"
      ]
    },
    {
      "cell_type": "code",
      "source": [
        "pip install stable_baselines3"
      ],
      "metadata": {
        "colab": {
          "base_uri": "https://localhost:8080/"
        },
        "id": "YaQEZxWrU6iH",
        "outputId": "68484e95-98a8-4791-f7eb-d78fb3abc2fb"
      },
      "execution_count": null,
      "outputs": [
        {
          "output_type": "stream",
          "name": "stdout",
          "text": [
            "Collecting stable_baselines3\n",
            "  Downloading stable_baselines3-2.7.0-py3-none-any.whl.metadata (4.8 kB)\n",
            "Requirement already satisfied: gymnasium<1.3.0,>=0.29.1 in /usr/local/lib/python3.12/dist-packages (from stable_baselines3) (1.2.0)\n",
            "Requirement already satisfied: numpy<3.0,>=1.20 in /usr/local/lib/python3.12/dist-packages (from stable_baselines3) (2.0.2)\n",
            "Requirement already satisfied: torch<3.0,>=2.3 in /usr/local/lib/python3.12/dist-packages (from stable_baselines3) (2.8.0+cu126)\n",
            "Requirement already satisfied: cloudpickle in /usr/local/lib/python3.12/dist-packages (from stable_baselines3) (3.1.1)\n",
            "Requirement already satisfied: pandas in /usr/local/lib/python3.12/dist-packages (from stable_baselines3) (2.2.2)\n",
            "Requirement already satisfied: matplotlib in /usr/local/lib/python3.12/dist-packages (from stable_baselines3) (3.10.0)\n",
            "Requirement already satisfied: typing-extensions>=4.3.0 in /usr/local/lib/python3.12/dist-packages (from gymnasium<1.3.0,>=0.29.1->stable_baselines3) (4.15.0)\n",
            "Requirement already satisfied: farama-notifications>=0.0.1 in /usr/local/lib/python3.12/dist-packages (from gymnasium<1.3.0,>=0.29.1->stable_baselines3) (0.0.4)\n",
            "Requirement already satisfied: filelock in /usr/local/lib/python3.12/dist-packages (from torch<3.0,>=2.3->stable_baselines3) (3.19.1)\n",
            "Requirement already satisfied: setuptools in /usr/local/lib/python3.12/dist-packages (from torch<3.0,>=2.3->stable_baselines3) (75.2.0)\n",
            "Requirement already satisfied: sympy>=1.13.3 in /usr/local/lib/python3.12/dist-packages (from torch<3.0,>=2.3->stable_baselines3) (1.13.3)\n",
            "Requirement already satisfied: networkx in /usr/local/lib/python3.12/dist-packages (from torch<3.0,>=2.3->stable_baselines3) (3.5)\n",
            "Requirement already satisfied: jinja2 in /usr/local/lib/python3.12/dist-packages (from torch<3.0,>=2.3->stable_baselines3) (3.1.6)\n",
            "Requirement already satisfied: fsspec in /usr/local/lib/python3.12/dist-packages (from torch<3.0,>=2.3->stable_baselines3) (2025.3.0)\n",
            "Requirement already satisfied: nvidia-cuda-nvrtc-cu12==12.6.77 in /usr/local/lib/python3.12/dist-packages (from torch<3.0,>=2.3->stable_baselines3) (12.6.77)\n",
            "Requirement already satisfied: nvidia-cuda-runtime-cu12==12.6.77 in /usr/local/lib/python3.12/dist-packages (from torch<3.0,>=2.3->stable_baselines3) (12.6.77)\n",
            "Requirement already satisfied: nvidia-cuda-cupti-cu12==12.6.80 in /usr/local/lib/python3.12/dist-packages (from torch<3.0,>=2.3->stable_baselines3) (12.6.80)\n",
            "Requirement already satisfied: nvidia-cudnn-cu12==9.10.2.21 in /usr/local/lib/python3.12/dist-packages (from torch<3.0,>=2.3->stable_baselines3) (9.10.2.21)\n",
            "Requirement already satisfied: nvidia-cublas-cu12==12.6.4.1 in /usr/local/lib/python3.12/dist-packages (from torch<3.0,>=2.3->stable_baselines3) (12.6.4.1)\n",
            "Requirement already satisfied: nvidia-cufft-cu12==11.3.0.4 in /usr/local/lib/python3.12/dist-packages (from torch<3.0,>=2.3->stable_baselines3) (11.3.0.4)\n",
            "Requirement already satisfied: nvidia-curand-cu12==10.3.7.77 in /usr/local/lib/python3.12/dist-packages (from torch<3.0,>=2.3->stable_baselines3) (10.3.7.77)\n",
            "Requirement already satisfied: nvidia-cusolver-cu12==11.7.1.2 in /usr/local/lib/python3.12/dist-packages (from torch<3.0,>=2.3->stable_baselines3) (11.7.1.2)\n",
            "Requirement already satisfied: nvidia-cusparse-cu12==12.5.4.2 in /usr/local/lib/python3.12/dist-packages (from torch<3.0,>=2.3->stable_baselines3) (12.5.4.2)\n",
            "Requirement already satisfied: nvidia-cusparselt-cu12==0.7.1 in /usr/local/lib/python3.12/dist-packages (from torch<3.0,>=2.3->stable_baselines3) (0.7.1)\n",
            "Requirement already satisfied: nvidia-nccl-cu12==2.27.3 in /usr/local/lib/python3.12/dist-packages (from torch<3.0,>=2.3->stable_baselines3) (2.27.3)\n",
            "Requirement already satisfied: nvidia-nvtx-cu12==12.6.77 in /usr/local/lib/python3.12/dist-packages (from torch<3.0,>=2.3->stable_baselines3) (12.6.77)\n",
            "Requirement already satisfied: nvidia-nvjitlink-cu12==12.6.85 in /usr/local/lib/python3.12/dist-packages (from torch<3.0,>=2.3->stable_baselines3) (12.6.85)\n",
            "Requirement already satisfied: nvidia-cufile-cu12==1.11.1.6 in /usr/local/lib/python3.12/dist-packages (from torch<3.0,>=2.3->stable_baselines3) (1.11.1.6)\n",
            "Requirement already satisfied: triton==3.4.0 in /usr/local/lib/python3.12/dist-packages (from torch<3.0,>=2.3->stable_baselines3) (3.4.0)\n",
            "Requirement already satisfied: contourpy>=1.0.1 in /usr/local/lib/python3.12/dist-packages (from matplotlib->stable_baselines3) (1.3.3)\n",
            "Requirement already satisfied: cycler>=0.10 in /usr/local/lib/python3.12/dist-packages (from matplotlib->stable_baselines3) (0.12.1)\n",
            "Requirement already satisfied: fonttools>=4.22.0 in /usr/local/lib/python3.12/dist-packages (from matplotlib->stable_baselines3) (4.59.1)\n",
            "Requirement already satisfied: kiwisolver>=1.3.1 in /usr/local/lib/python3.12/dist-packages (from matplotlib->stable_baselines3) (1.4.9)\n",
            "Requirement already satisfied: packaging>=20.0 in /usr/local/lib/python3.12/dist-packages (from matplotlib->stable_baselines3) (25.0)\n",
            "Requirement already satisfied: pillow>=8 in /usr/local/lib/python3.12/dist-packages (from matplotlib->stable_baselines3) (11.3.0)\n",
            "Requirement already satisfied: pyparsing>=2.3.1 in /usr/local/lib/python3.12/dist-packages (from matplotlib->stable_baselines3) (3.2.3)\n",
            "Requirement already satisfied: python-dateutil>=2.7 in /usr/local/lib/python3.12/dist-packages (from matplotlib->stable_baselines3) (2.9.0.post0)\n",
            "Requirement already satisfied: pytz>=2020.1 in /usr/local/lib/python3.12/dist-packages (from pandas->stable_baselines3) (2025.2)\n",
            "Requirement already satisfied: tzdata>=2022.7 in /usr/local/lib/python3.12/dist-packages (from pandas->stable_baselines3) (2025.2)\n",
            "Requirement already satisfied: six>=1.5 in /usr/local/lib/python3.12/dist-packages (from python-dateutil>=2.7->matplotlib->stable_baselines3) (1.17.0)\n",
            "Requirement already satisfied: mpmath<1.4,>=1.1.0 in /usr/local/lib/python3.12/dist-packages (from sympy>=1.13.3->torch<3.0,>=2.3->stable_baselines3) (1.3.0)\n",
            "Requirement already satisfied: MarkupSafe>=2.0 in /usr/local/lib/python3.12/dist-packages (from jinja2->torch<3.0,>=2.3->stable_baselines3) (3.0.2)\n",
            "Downloading stable_baselines3-2.7.0-py3-none-any.whl (187 kB)\n",
            "\u001b[2K   \u001b[90m━━━━━━━━━━━━━━━━━━━━━━━━━━━━━━━━━━━━━━━━\u001b[0m \u001b[32m187.2/187.2 kB\u001b[0m \u001b[31m6.9 MB/s\u001b[0m eta \u001b[36m0:00:00\u001b[0m\n",
            "\u001b[?25hInstalling collected packages: stable_baselines3\n",
            "Successfully installed stable_baselines3-2.7.0\n"
          ]
        }
      ]
    },
    {
      "cell_type": "code",
      "source": [
        "# Lấy mô hình đã chạy để chạy mới\n",
        "#!/usr/bin/env python3\n",
        "# apply_saved_policy.py\n",
        "# Yêu cầu: torch, pandas, numpy, scikit-learn, gym, stable-baselines3\n",
        "\n",
        "import torch\n",
        "import pandas as pd\n",
        "import numpy as np\n",
        "from sklearn.preprocessing import MinMaxScaler\n",
        "from sklearn.decomposition import PCA\n",
        "import gym\n",
        "from gym import spaces\n",
        "from stable_baselines3 import DQN"
      ],
      "metadata": {
        "colab": {
          "base_uri": "https://localhost:8080/"
        },
        "id": "RcXalMDpVGGE",
        "outputId": "ba55094c-1efc-4db3-ab30-808ceddb32c4"
      },
      "execution_count": null,
      "outputs": [
        {
          "output_type": "stream",
          "name": "stderr",
          "text": [
            "/usr/local/lib/python3.12/dist-packages/jupyter_client/session.py:151: DeprecationWarning: datetime.datetime.utcnow() is deprecated and scheduled for removal in a future version. Use timezone-aware objects to represent datetimes in UTC: datetime.datetime.now(datetime.UTC).\n",
            "  return datetime.utcnow().replace(tzinfo=utc)\n"
          ]
        }
      ]
    },
    {
      "cell_type": "code",
      "source": [
        "pip install 'shimmy>=2.0'"
      ],
      "metadata": {
        "colab": {
          "base_uri": "https://localhost:8080/"
        },
        "id": "1YQfJ2qPVvh9",
        "outputId": "b7cc0893-2539-4e4a-91d1-58206288a565"
      },
      "execution_count": null,
      "outputs": [
        {
          "output_type": "stream",
          "name": "stdout",
          "text": [
            "Collecting shimmy>=2.0\n",
            "  Downloading Shimmy-2.0.0-py3-none-any.whl.metadata (3.5 kB)\n",
            "Requirement already satisfied: numpy>=1.18.0 in /usr/local/lib/python3.12/dist-packages (from shimmy>=2.0) (2.0.2)\n",
            "Requirement already satisfied: gymnasium>=1.0.0a1 in /usr/local/lib/python3.12/dist-packages (from shimmy>=2.0) (1.2.0)\n",
            "Requirement already satisfied: cloudpickle>=1.2.0 in /usr/local/lib/python3.12/dist-packages (from gymnasium>=1.0.0a1->shimmy>=2.0) (3.1.1)\n",
            "Requirement already satisfied: typing-extensions>=4.3.0 in /usr/local/lib/python3.12/dist-packages (from gymnasium>=1.0.0a1->shimmy>=2.0) (4.15.0)\n",
            "Requirement already satisfied: farama-notifications>=0.0.1 in /usr/local/lib/python3.12/dist-packages (from gymnasium>=1.0.0a1->shimmy>=2.0) (0.0.4)\n",
            "Downloading Shimmy-2.0.0-py3-none-any.whl (30 kB)\n",
            "Installing collected packages: shimmy\n",
            "Successfully installed shimmy-2.0.0\n"
          ]
        }
      ]
    },
    {
      "cell_type": "code",
      "source": [
        "# Lấy mô hình đã chạy để chạy mới\n",
        "#!/usr/bin/env python3\n",
        "# apply_saved_policy_with_signal.py\n",
        "# Yêu cầu: torch, pandas, numpy, scikit-learn, gym, stable-baselines3\n",
        "\n",
        "import torch\n",
        "import pandas as pd\n",
        "import numpy as np\n",
        "from sklearn.preprocessing import MinMaxScaler\n",
        "from sklearn.decomposition import PCA\n",
        "import gym\n",
        "from gym import spaces\n",
        "from stable_baselines3 import DQN\n",
        "\n",
        "# --- 1. Tính chỉ báo như lúc train ---\n",
        "def add_technical(df):\n",
        "    df = df.copy()\n",
        "    df['log_ret'] = np.log(df['close']).diff()\n",
        "    delta = df['close'].diff()\n",
        "    gain  = delta.clip(lower=0).rolling(14).mean()\n",
        "    loss  = (-delta.clip(upper=0)).rolling(14).mean().replace(0,1e-6)\n",
        "    df['rsi']    = 100 - 100/(1 + gain/loss)\n",
        "    df['sma_5']  = df['close'].rolling(5).mean()\n",
        "    df['sma_10'] = df['close'].rolling(10).mean()\n",
        "    mb   = df['close'].rolling(20).mean()\n",
        "    sig  = df['close'].rolling(20).std()\n",
        "    df['boll_up'] = mb + 2*sig\n",
        "    df['boll_lb'] = mb - 2*sig\n",
        "    return df.dropna()\n",
        "\n",
        "# Đọc toàn bộ file, split train/test\n",
        "xls      = pd.ExcelFile('/content/ETH_daily_data2.xlsx')\n",
        "full_df  = pd.read_excel(xls, 'ETH_Daily', parse_dates=['time']).set_index('time').sort_index()\n",
        "full_df  = add_technical(full_df)\n",
        "\n",
        "split_date = '2022-1-1'\n",
        "train_df   = full_df[:split_date]\n",
        "test_df    = full_df[split_date:]\n",
        "\n",
        "# --- 2. Scale & PCA ---\n",
        "features   = ['log_ret','rsi','sma_5','sma_10','boll_up','boll_lb','volume']\n",
        "scaler     = MinMaxScaler()\n",
        "train_vals = scaler.fit_transform(train_df[features])\n",
        "test_vals  = scaler.transform(test_df[features])\n",
        "\n",
        "pca        = PCA(n_components=5)\n",
        "train_pca  = pca.fit_transform(train_vals)\n",
        "test_pca   = pca.transform(test_vals)\n",
        "\n",
        "# --- 3. Định nghĩa môi trường FSRL ---\n",
        "class FSRLEnv(gym.Env):\n",
        "    def __init__(self, df, pca_arr, window=20, cash_start=1e6):\n",
        "        super().__init__()\n",
        "        self.df           = df.reset_index(drop=True)\n",
        "        self.times_index  = df.index\n",
        "        self.pca_arr      = pca_arr\n",
        "        self.window       = window\n",
        "        self.cash_start   = cash_start\n",
        "        self.action_space = spaces.Discrete(5)\n",
        "        self.observation_space = spaces.Box(\n",
        "            low=-np.inf, high=np.inf,\n",
        "            shape=(window * pca_arr.shape[1],),\n",
        "            dtype=np.float32\n",
        "        )\n",
        "        self.reset()\n",
        "\n",
        "    def reset(self):\n",
        "        self.t        = self.window\n",
        "        self.cash     = self.cash_start\n",
        "        self.nav      = [self.cash]\n",
        "        self.times    = []\n",
        "        self.signals  = []\n",
        "        return self._get_state()\n",
        "\n",
        "    def _get_state(self):\n",
        "        return self.pca_arr[self.t-self.window:self.t].flatten()\n",
        "\n",
        "    def step(self, action):\n",
        "        action = int(action)\n",
        "        row    = self.df.iloc[self.t]\n",
        "\n",
        "        # chọn signal\n",
        "        if   action == 0:\n",
        "            signal = 1 if row.rsi < 30 else (-1 if row.rsi > 70 else 0)\n",
        "        elif action == 1:\n",
        "            signal = 1 if row.sma_5 > row.sma_10 else (-1 if row.sma_5 < row.sma_10 else 0)\n",
        "        elif action == 2:\n",
        "            signal = 1 if row.close < row.boll_lb else (-1 if row.close > row.boll_up else 0)\n",
        "        elif action == 3:\n",
        "            mom    = (row.close / self.df.close.iloc[self.t-20]) - 1\n",
        "            signal = 1 if mom > 0 else -1\n",
        "        else:\n",
        "            prices = self.df.close.iloc[self.t-20:self.t]\n",
        "            vols   = self.df.volume.iloc[self.t-20:self.t]\n",
        "            vwap   = (prices * vols).sum() / vols.sum()\n",
        "            signal = 1 if row.close < vwap else -1\n",
        "\n",
        "        # cập nhật NAV\n",
        "        ret = signal * row.log_ret\n",
        "        self.cash *= np.exp(ret)\n",
        "        self.nav.append(self.cash)\n",
        "\n",
        "        # lưu lịch sử\n",
        "        self.signals.append(signal)\n",
        "        self.times.append(self.times_index[self.t])\n",
        "\n",
        "        self.t += 1\n",
        "        done = self.t >= len(self.df)\n",
        "        return self._get_state(), ret, done, {}\n",
        "\n",
        "# --- 4. Tạo env_test và load model đã train ---\n",
        "env_test = FSRLEnv(test_df, test_pca)\n",
        "model    = DQN.load(\"/content/fsrl_crypto_model DQN 100.zip\", env=env_test)\n",
        "\n",
        "# --- 5. Inference trên tập test ---\n",
        "obs     = env_test.reset()\n",
        "done    = False\n",
        "actions = []\n",
        "signals = []\n",
        "navs    = []\n",
        "times   = []\n",
        "\n",
        "while not done:\n",
        "    action, _ = model.predict(obs, deterministic=True)\n",
        "    obs, _, done, _ = env_test.step(action)\n",
        "\n",
        "    actions.append(int(action))\n",
        "    signals.append(env_test.signals[-1])\n",
        "    navs.append(env_test.nav[-1])\n",
        "    times.append(env_test.times[-1])\n",
        "\n",
        "# --- 6. Xuất kết quả ra Excel ---\n",
        "strategy_map = {\n",
        "    0: 'RSI-Strategy',\n",
        "    1: 'SMA-Crossover',\n",
        "    2: 'Bollinger-Reversion',\n",
        "    3: 'Momentum-20d',\n",
        "    4: 'VWAP-Reversion'\n",
        "}\n",
        "\n",
        "df_out = pd.DataFrame({\n",
        "    'time':     times,\n",
        "    'action':   actions,\n",
        "    'signal':   signals,\n",
        "    'strategy': [strategy_map[a] for a in actions],\n",
        "    'nav':      navs\n",
        "})\n",
        "df_out.to_excel('test_policy_signals_with_signal6.xlsx', index=False)"
      ],
      "metadata": {
        "colab": {
          "base_uri": "https://localhost:8080/"
        },
        "id": "B3qSthhbU84F",
        "outputId": "5b50f7ad-7d5f-4ffa-b00b-35fb9bf125f6"
      },
      "execution_count": null,
      "outputs": [
        {
          "output_type": "stream",
          "name": "stderr",
          "text": [
            "/usr/local/lib/python3.12/dist-packages/stable_baselines3/common/vec_env/patch_gym.py:49: UserWarning: You provided an OpenAI Gym environment. We strongly recommend transitioning to Gymnasium environments. Stable-Baselines3 is automatically wrapping your environments in a compatibility layer, which could potentially cause issues.\n",
            "  warnings.warn(\n"
          ]
        },
        {
          "output_type": "stream",
          "name": "stdout",
          "text": [
            "Wrapping the env with a `Monitor` wrapper\n",
            "Wrapping the env in a DummyVecEnv.\n"
          ]
        },
        {
          "output_type": "stream",
          "name": "stderr",
          "text": [
            "/usr/local/lib/python3.12/dist-packages/jupyter_client/session.py:151: DeprecationWarning: datetime.datetime.utcnow() is deprecated and scheduled for removal in a future version. Use timezone-aware objects to represent datetimes in UTC: datetime.datetime.now(datetime.UTC).\n",
            "  return datetime.utcnow().replace(tzinfo=utc)\n"
          ]
        }
      ]
    },
    {
      "cell_type": "code",
      "source": [
        "# 7. Vẽ NAV Curve + Buy/Sell markers\n",
        "# =========================\n",
        "nav_times  = [test_df.index[env_test.window]] + env_test.times\n",
        "nav_vals   = env_test.nav\n",
        "buy_times  = trades['time'][trades['signal'] == 1].tolist()\n",
        "buy_vals   = trades['nav'][trades['signal'] == 1].tolist()\n",
        "sell_times = trades['time'][trades['signal'] == -1].tolist()\n",
        "sell_vals  = trades['nav'][trades['signal'] == -1].tolist()\n",
        "\n",
        "plt.figure(figsize=(12,6))\n",
        "plt.plot(nav_times, nav_vals, label='NAV', linewidth=2)\n",
        "plt.scatter(buy_times, buy_vals, marker='^', color='green',  s=80, label='Buy')\n",
        "plt.scatter(sell_times, sell_vals, marker='v', color='red',    s=80, label='Sell')\n",
        "plt.title('FSRL Test NAV Curve with Buy/Sell Markers')\n",
        "plt.xlabel('Date')\n",
        "plt.ylabel('Net Asset Value')\n",
        "plt.legend()\n",
        "plt.grid(True)\n",
        "plt.show()\n"
      ],
      "metadata": {
        "colab": {
          "base_uri": "https://localhost:8080/",
          "height": 211
        },
        "id": "DTTbq_D_V2Nz",
        "outputId": "1208496e-7ce9-46de-fe66-cbe3bb6c9486"
      },
      "execution_count": null,
      "outputs": [
        {
          "output_type": "error",
          "ename": "NameError",
          "evalue": "name 'trades' is not defined",
          "traceback": [
            "\u001b[0;31m---------------------------------------------------------------------------\u001b[0m",
            "\u001b[0;31mNameError\u001b[0m                                 Traceback (most recent call last)",
            "\u001b[0;32m/tmp/ipython-input-912544031.py\u001b[0m in \u001b[0;36m<cell line: 0>\u001b[0;34m()\u001b[0m\n\u001b[1;32m      3\u001b[0m \u001b[0mnav_times\u001b[0m  \u001b[0;34m=\u001b[0m \u001b[0;34m[\u001b[0m\u001b[0mtest_df\u001b[0m\u001b[0;34m.\u001b[0m\u001b[0mindex\u001b[0m\u001b[0;34m[\u001b[0m\u001b[0menv_test\u001b[0m\u001b[0;34m.\u001b[0m\u001b[0mwindow\u001b[0m\u001b[0;34m]\u001b[0m\u001b[0;34m]\u001b[0m \u001b[0;34m+\u001b[0m \u001b[0menv_test\u001b[0m\u001b[0;34m.\u001b[0m\u001b[0mtimes\u001b[0m\u001b[0;34m\u001b[0m\u001b[0;34m\u001b[0m\u001b[0m\n\u001b[1;32m      4\u001b[0m \u001b[0mnav_vals\u001b[0m   \u001b[0;34m=\u001b[0m \u001b[0menv_test\u001b[0m\u001b[0;34m.\u001b[0m\u001b[0mnav\u001b[0m\u001b[0;34m\u001b[0m\u001b[0;34m\u001b[0m\u001b[0m\n\u001b[0;32m----> 5\u001b[0;31m \u001b[0mbuy_times\u001b[0m  \u001b[0;34m=\u001b[0m \u001b[0mtrades\u001b[0m\u001b[0;34m[\u001b[0m\u001b[0;34m'time'\u001b[0m\u001b[0;34m]\u001b[0m\u001b[0;34m[\u001b[0m\u001b[0mtrades\u001b[0m\u001b[0;34m[\u001b[0m\u001b[0;34m'signal'\u001b[0m\u001b[0;34m]\u001b[0m \u001b[0;34m==\u001b[0m \u001b[0;36m1\u001b[0m\u001b[0;34m]\u001b[0m\u001b[0;34m.\u001b[0m\u001b[0mtolist\u001b[0m\u001b[0;34m(\u001b[0m\u001b[0;34m)\u001b[0m\u001b[0;34m\u001b[0m\u001b[0;34m\u001b[0m\u001b[0m\n\u001b[0m\u001b[1;32m      6\u001b[0m \u001b[0mbuy_vals\u001b[0m   \u001b[0;34m=\u001b[0m \u001b[0mtrades\u001b[0m\u001b[0;34m[\u001b[0m\u001b[0;34m'nav'\u001b[0m\u001b[0;34m]\u001b[0m\u001b[0;34m[\u001b[0m\u001b[0mtrades\u001b[0m\u001b[0;34m[\u001b[0m\u001b[0;34m'signal'\u001b[0m\u001b[0;34m]\u001b[0m \u001b[0;34m==\u001b[0m \u001b[0;36m1\u001b[0m\u001b[0;34m]\u001b[0m\u001b[0;34m.\u001b[0m\u001b[0mtolist\u001b[0m\u001b[0;34m(\u001b[0m\u001b[0;34m)\u001b[0m\u001b[0;34m\u001b[0m\u001b[0;34m\u001b[0m\u001b[0m\n\u001b[1;32m      7\u001b[0m \u001b[0msell_times\u001b[0m \u001b[0;34m=\u001b[0m \u001b[0mtrades\u001b[0m\u001b[0;34m[\u001b[0m\u001b[0;34m'time'\u001b[0m\u001b[0;34m]\u001b[0m\u001b[0;34m[\u001b[0m\u001b[0mtrades\u001b[0m\u001b[0;34m[\u001b[0m\u001b[0;34m'signal'\u001b[0m\u001b[0;34m]\u001b[0m \u001b[0;34m==\u001b[0m \u001b[0;34m-\u001b[0m\u001b[0;36m1\u001b[0m\u001b[0;34m]\u001b[0m\u001b[0;34m.\u001b[0m\u001b[0mtolist\u001b[0m\u001b[0;34m(\u001b[0m\u001b[0;34m)\u001b[0m\u001b[0;34m\u001b[0m\u001b[0;34m\u001b[0m\u001b[0m\n",
            "\u001b[0;31mNameError\u001b[0m: name 'trades' is not defined"
          ]
        }
      ]
    },
    {
      "cell_type": "code",
      "source": [],
      "metadata": {
        "id": "R6w0-qryV06j"
      },
      "execution_count": null,
      "outputs": []
    }
  ]
}