{
 "cells": [
  {
   "cell_type": "code",
   "execution_count": 1,
   "id": "28c31862-3fa5-43ca-be84-77a438ab43b3",
   "metadata": {},
   "outputs": [
    {
     "name": "stdout",
     "output_type": "stream",
     "text": [
      "Đang crawl dữ liệu từ thanh-hoa\n",
      "Đang crawl dữ liệu từ tra-vinh\n",
      "Đang crawl dữ liệu từ tuy-hoa\n",
      "Đang crawl dữ liệu từ tuyen-quang\n"
     ]
    },
    {
     "name": "stderr",
     "output_type": "stream",
     "text": [
      "🌤️ Crawling weather data:   9%|▉         | 1/11 [3:01:14<30:12:25, 10874.59s/it]"
     ]
    },
    {
     "name": "stdout",
     "output_type": "stream",
     "text": [
      "Đang crawl dữ liệu từ uong-bi\n",
      "✅ Đã lưu dữ liệu tuyen-quang vào E:\\Tài liệu học\\2024-2\\Lưu trữ và xử lý dữ liệu lớn\\Data\\tuyen-quang.csv\n"
     ]
    },
    {
     "name": "stderr",
     "output_type": "stream",
     "text": [
      "🌤️ Crawling weather data:  18%|█▊        | 2/11 [4:09:28<17:12:54, 6886.01s/it] "
     ]
    },
    {
     "name": "stdout",
     "output_type": "stream",
     "text": [
      "Đang crawl dữ liệu từ viet-tri✅ Đã lưu dữ liệu thanh-hoa vào E:\\Tài liệu học\\2024-2\\Lưu trữ và xử lý dữ liệu lớn\\Data\\thanh-hoa.csv\n",
      "\n"
     ]
    },
    {
     "name": "stderr",
     "output_type": "stream",
     "text": [
      "🌤️ Crawling weather data:  27%|██▋       | 3/11 [4:09:43<8:19:47, 3748.46s/it] "
     ]
    },
    {
     "name": "stdout",
     "output_type": "stream",
     "text": [
      "Đang crawl dữ liệu từ vinh\n",
      "✅ Đã lưu dữ liệu tuy-hoa vào E:\\Tài liệu học\\2024-2\\Lưu trữ và xử lý dữ liệu lớn\\Data\\tuy-hoa.csv\n"
     ]
    },
    {
     "name": "stderr",
     "output_type": "stream",
     "text": [
      "🌤️ Crawling weather data:  36%|███▋      | 4/11 [4:11:17<4:29:01, 2305.92s/it]"
     ]
    },
    {
     "name": "stdout",
     "output_type": "stream",
     "text": [
      "Đang crawl dữ liệu từ vinh-long✅ Đã lưu dữ liệu tra-vinh vào E:\\Tài liệu học\\2024-2\\Lưu trữ và xử lý dữ liệu lớn\\Data\\tra-vinh.csv\n",
      "\n"
     ]
    },
    {
     "name": "stderr",
     "output_type": "stream",
     "text": [
      "🌤️ Crawling weather data:  45%|████▌     | 5/11 [7:12:49<9:00:12, 5402.03s/it]"
     ]
    },
    {
     "name": "stdout",
     "output_type": "stream",
     "text": [
      "Đang crawl dữ liệu từ vinh-yen✅ Đã lưu dữ liệu uong-bi vào E:\\Tài liệu học\\2024-2\\Lưu trữ và xử lý dữ liệu lớn\\Data\\uong-bi.csv\n",
      "\n"
     ]
    },
    {
     "name": "stderr",
     "output_type": "stream",
     "text": [
      "🌤️ Crawling weather data:  55%|█████▍    | 6/11 [7:37:40<5:39:20, 4072.12s/it]"
     ]
    },
    {
     "name": "stdout",
     "output_type": "stream",
     "text": [
      "Đang crawl dữ liệu từ vung-tau✅ Đã lưu dữ liệu vinh-long vào E:\\Tài liệu học\\2024-2\\Lưu trữ và xử lý dữ liệu lớn\\Data\\vinh-long.csv\n",
      "\n"
     ]
    },
    {
     "name": "stderr",
     "output_type": "stream",
     "text": [
      "🌤️ Crawling weather data:  64%|██████▎   | 7/11 [8:14:38<3:51:03, 3465.96s/it]"
     ]
    },
    {
     "name": "stdout",
     "output_type": "stream",
     "text": [
      "Đang crawl dữ liệu từ x.-ba-luong✅ Đã lưu dữ liệu viet-tri vào E:\\Tài liệu học\\2024-2\\Lưu trữ và xử lý dữ liệu lớn\\Data\\viet-tri.csv\n",
      "\n"
     ]
    },
    {
     "name": "stderr",
     "output_type": "stream",
     "text": [
      "🌤️ Crawling weather data:  73%|███████▎  | 8/11 [8:15:49<1:59:15, 2385.33s/it]"
     ]
    },
    {
     "name": "stdout",
     "output_type": "stream",
     "text": [
      "✅ Đã lưu dữ liệu vinh vào E:\\Tài liệu học\\2024-2\\Lưu trữ và xử lý dữ liệu lớn\\Data\\vinh.csv\n"
     ]
    },
    {
     "name": "stderr",
     "output_type": "stream",
     "text": [
      "🌤️ Crawling weather data:  82%|████████▏ | 9/11 [8:59:23<1:21:53, 2456.84s/it]"
     ]
    },
    {
     "name": "stdout",
     "output_type": "stream",
     "text": [
      "✅ Đã lưu dữ liệu x.-ba-luong vào E:\\Tài liệu học\\2024-2\\Lưu trữ và xử lý dữ liệu lớn\\Data\\x.-ba-luong.csv\n"
     ]
    },
    {
     "name": "stderr",
     "output_type": "stream",
     "text": [
      "🌤️ Crawling weather data:  91%|█████████ | 10/11 [11:13:52<1:09:49, 4189.38s/it]"
     ]
    },
    {
     "name": "stdout",
     "output_type": "stream",
     "text": [
      "✅ Đã lưu dữ liệu vinh-yen vào E:\\Tài liệu học\\2024-2\\Lưu trữ và xử lý dữ liệu lớn\\Data\\vinh-yen.csv\n"
     ]
    },
    {
     "name": "stderr",
     "output_type": "stream",
     "text": [
      "🌤️ Crawling weather data: 100%|██████████| 11/11 [11:39:47<00:00, 3817.06s/it]  "
     ]
    },
    {
     "name": "stdout",
     "output_type": "stream",
     "text": [
      "✅ Đã lưu dữ liệu vung-tau vào E:\\Tài liệu học\\2024-2\\Lưu trữ và xử lý dữ liệu lớn\\Data\\vung-tau.csv\n",
      "\n",
      "✅ Đã crawl thành công: 11/11\n"
     ]
    },
    {
     "name": "stderr",
     "output_type": "stream",
     "text": [
      "\n"
     ]
    }
   ],
   "source": [
    "import concurrent.futures\n",
    "from tqdm import tqdm\n",
    "import os\n",
    "import pandas as pd\n",
    "import time\n",
    "import datetime\n",
    "from selenium import webdriver\n",
    "from selenium.webdriver.common.by import By\n",
    "from selenium.webdriver.support.ui import WebDriverWait\n",
    "from selenium.webdriver.support import expected_conditions as EC\n",
    "from selenium.common.exceptions import NoSuchElementException, TimeoutException, WebDriverException\n",
    "\n",
    "def scrape_weather_to_df(name):\n",
    "    # Set up options để giảm tài nguyên sử dụng\n",
    "    options = webdriver.ChromeOptions()\n",
    "    options.add_argument('--disable-gpu')\n",
    "    options.add_argument('--disable-extensions')\n",
    "    options.add_argument('--disable-infobars')\n",
    "    options.add_argument('--disable-notifications')\n",
    "    options.add_argument('--blink-settings=imagesEnabled=false')  # Tắt tải hình ảnh\n",
    "    \n",
    "    driver = webdriver.Chrome(options=options)\n",
    "    url = f\"https://www.worldweatheronline.com/{name}-weather-history/vn.aspx\"\n",
    "    driver.get(url)\n",
    "    \n",
    "    data = []\n",
    "    try:\n",
    "        allow_cookies = WebDriverWait(driver, 15).until(\n",
    "            EC.element_to_be_clickable((By.ID, \"CybotCookiebotDialogBodyButtonAccept\"))\n",
    "        )\n",
    "        allow_cookies.click()\n",
    "        time.sleep(1)\n",
    "    except (NoSuchElementException, TimeoutException):\n",
    "        pass\n",
    "    \n",
    "    record_keys = ['Time', 'Weather', 'Temp', 'Rain', 'Cloud', 'Pressure', 'Wind', 'Gust']\n",
    "    date = datetime.datetime(2010, 1, 1)\n",
    "    end_date = datetime.datetime(2025, 4, 5)\n",
    "    \n",
    "    try:\n",
    "        while date < end_date:\n",
    "            date_str = date.strftime('%Y-%m-%d')\n",
    "            try:\n",
    "                input_date = WebDriverWait(driver, 7).until(\n",
    "                    EC.presence_of_element_located((By.ID, 'ctl00_MainContentHolder_txtPastDate'))\n",
    "                )\n",
    "                driver.execute_script(\"arguments[0].value = arguments[1];\", input_date, date_str)\n",
    "                submit_date = driver.find_element(By.ID, 'ctl00_MainContentHolder_butShowPastWeather')\n",
    "                submit_date.click()\n",
    "            except WebDriverException:\n",
    "                date += datetime.timedelta(days=1)\n",
    "                continue\n",
    "            \n",
    "            time.sleep(1)\n",
    "            \n",
    "            tables = driver.find_element(By.XPATH, \"/html/body/form/div[3]/section/div/div/div/div[3]/div[1]/div/div[3]/table/tbody\")\n",
    "    # lấy lại phần tử sau khi trang đã reload\n",
    "            all_rows = tables.find_elements(By.TAG_NAME, \"tr\")\n",
    "            rows = all_rows[2:10] \n",
    "            \n",
    "            for row in rows:\n",
    "                try:\n",
    "                    cells = row.find_elements(By.CLASS_NAME, \"days-details-row-item1\")\n",
    "                    rains = row.find_elements(By.CLASS_NAME, \"days-rain-number\")\n",
    "                    rain = rains[0].text\n",
    "                    weather_img = cells[1].find_element(By.TAG_NAME, \"img\")\n",
    "                    weather = weather_img.get_attribute(\"title\")\n",
    "                    \n",
    "                    values = [cells[0].text.strip(), weather, cells[2].text.strip(), rain, cells[3].text.strip(), \n",
    "                            cells[4].text.strip(), cells[5].text.strip(), cells[6].text.strip()]\n",
    "                    \n",
    "                    if values:\n",
    "                        data.append([date_str] + values)\n",
    "                except Exception:\n",
    "                    continue\n",
    "            \n",
    "            date += datetime.timedelta(days=1)\n",
    "    finally:\n",
    "        driver.quit()\n",
    "    \n",
    "    if data:\n",
    "        df = pd.DataFrame(data, columns=[\"Date\"] + record_keys)\n",
    "        return df\n",
    "    else:\n",
    "        return pd.DataFrame(columns=[\"Date\"] + record_keys)\n",
    "\n",
    "def process_location(name, output_dir):\n",
    "    try:\n",
    "        print(f\"Đang crawl dữ liệu từ {name}\")\n",
    "        df = scrape_weather_to_df(name)\n",
    "        filename = os.path.join(output_dir, f\"{name}.csv\")\n",
    "        df.to_csv(filename, index=False)\n",
    "        return f\"✅ Đã lưu dữ liệu {name} vào {filename}\", name, True\n",
    "    except Exception as e:\n",
    "        return f\"❌ Lỗi khi crawl {name}: {e}\", name, False\n",
    "\n",
    "def main():\n",
    "    output_dir = r\"E:\\Tài liệu học\\2024-2\\Lưu trữ và xử lý dữ liệu lớn\\Data\"\n",
    "    os.makedirs(output_dir, exist_ok=True)\n",
    "    \n",
    "    name_tinh_process = ['thanh-hoa'\n",
    "                         , 'tra-vinh'\n",
    "                         , 'tuy-hoa'\n",
    "                         , 'tuyen-quang'\n",
    "                         , 'uong-bi'\n",
    "                         , 'viet-tri'\n",
    "                         , 'vinh'\n",
    "                         , 'vinh-long'\n",
    "                         , 'vinh-yen'\n",
    "                         , 'vung-tau'\n",
    "                         , 'x.-ba-luong'\n",
    "            ]  # Thay bằng danh sách của bạn\n",
    "    \n",
    "    # Số luồng chạy đồng thời (tùy chỉnh theo cấu hình máy)\n",
    "    max_workers = 4  # Nên để số lượng nhỏ để tránh bị chặn\n",
    "    \n",
    "    results = []\n",
    "    with concurrent.futures.ThreadPoolExecutor(max_workers=max_workers) as executor:\n",
    "        # Gửi các tác vụ\n",
    "        future_to_name = {\n",
    "            executor.submit(process_location, name, output_dir): name \n",
    "            for name in name_tinh_process\n",
    "        }\n",
    "        \n",
    "        # Hiển thị tiến trình\n",
    "        with tqdm(total=len(name_tinh_process), desc=\"🌤️ Crawling weather data\") as pbar:\n",
    "            for future in concurrent.futures.as_completed(future_to_name):\n",
    "                name = future_to_name[future]\n",
    "                try:\n",
    "                    message, location, success = future.result()\n",
    "                    print(message)\n",
    "                    results.append((location, success))\n",
    "                except Exception as e:\n",
    "                    print(f\"❌ Lỗi với {name}: {e}\")\n",
    "                    results.append((name, False))\n",
    "                pbar.update(1)\n",
    "    \n",
    "    # Thống kê kết quả\n",
    "    success_count = sum(1 for _, success in results if success)\n",
    "    print(f\"\\n✅ Đã crawl thành công: {success_count}/{len(name_tinh_process)}\")\n",
    "    \n",
    "    if success_count < len(name_tinh_process):\n",
    "        failed_locations = [name for name, success in results if not success]\n",
    "        print(f\"❌ Các địa điểm chưa crawl được: {', '.join(failed_locations)}\")\n",
    "\n",
    "if __name__ == \"__main__\":\n",
    "    main()"
   ]
  },
  {
   "cell_type": "code",
   "execution_count": null,
   "id": "0028f987-acde-468f-99c8-c3f0794d63f1",
   "metadata": {},
   "outputs": [],
   "source": []
  }
 ],
 "metadata": {
  "kernelspec": {
   "display_name": "Python 3",
   "language": "python",
   "name": "python3"
  },
  "language_info": {
   "codemirror_mode": {
    "name": "ipython",
    "version": 3
   },
   "file_extension": ".py",
   "mimetype": "text/x-python",
   "name": "python",
   "nbconvert_exporter": "python",
   "pygments_lexer": "ipython3",
   "version": "3.12.6"
  }
 },
 "nbformat": 4,
 "nbformat_minor": 5
}
