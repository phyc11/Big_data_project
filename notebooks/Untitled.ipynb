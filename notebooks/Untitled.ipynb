{
 "cells": [
  {
   "cell_type": "code",
   "execution_count": 1,
   "id": "0c2b29fc-40ba-4ae2-9ac5-7376b0135ff3",
   "metadata": {},
   "outputs": [],
   "source": [
    "from pyspark.sql import SparkSession"
   ]
  },
  {
   "cell_type": "code",
   "execution_count": 2,
   "id": "19118875-26fa-41c1-bf8d-c3c939610dc1",
   "metadata": {},
   "outputs": [],
   "source": [
    "from pyspark.sql import SparkSession\n",
    "\n",
    "spark = SparkSession.builder \\\n",
    "    .appName(\"Read HDFS Weather Data\") \\\n",
    "    .master(\"local\") \\\n",
    "    .config(\"spark.hadoop.fs.defaultFS\", \"hdfs://namenode:9000\") \\\n",
    "    .getOrCreate()\n"
   ]
  },
  {
   "cell_type": "code",
   "execution_count": 3,
   "id": "56f19398-2c95-4b55-b398-5c919bdc984c",
   "metadata": {},
   "outputs": [
    {
     "name": "stdout",
     "output_type": "stream",
     "text": [
      "+----------+-------------------+----------------+----+----+-----+--------+--------+---------+----+-------------------+\n",
      "|      date|               Time|      conditions|temp|rain|cloud|pressure|humidity|windspeed|Gust|        actual_hour|\n",
      "+----------+-------------------+----------------+----+----+-----+--------+--------+---------+----+-------------------+\n",
      "|2025-04-20|2025-04-20 02:52:00|Partially cloudy|28.0| 0.0| 50.0|  1008.0|   88.91|     11.2|24.5|2025-04-20 02:00:00|\n",
      "|2025-04-20|2025-04-20 05:52:00|Partially cloudy|28.0| 0.0| 50.0|  1009.0|   83.78|      9.4|16.9|2025-04-20 05:00:00|\n",
      "|2025-04-20|2025-04-20 08:52:00|Partially cloudy|30.0| 0.0| 25.0|  1010.0|   66.17|     11.2|14.8|2025-04-20 08:00:00|\n",
      "|2025-04-20|2025-04-20 11:52:00|Partially cloudy|36.1| 0.0| 36.9|  1009.0|    33.0|     14.0|18.4|2025-04-20 11:00:00|\n",
      "+----------+-------------------+----------------+----+----+-----+--------+--------+---------+----+-------------------+\n",
      "\n"
     ]
    }
   ],
   "source": [
    "df = spark.read.csv(\"hdfs://namenode:9000/tmp/weather_data/location=Hochiminh,VN\", header=True, inferSchema=True)\n",
    "df.show()"
   ]
  },
  {
   "cell_type": "code",
   "execution_count": 9,
   "id": "c3245c15-e5fb-494d-81ef-eaa69153c4d8",
   "metadata": {},
   "outputs": [
    {
     "data": {
      "text/plain": [
       "462"
      ]
     },
     "execution_count": 9,
     "metadata": {},
     "output_type": "execute_result"
    }
   ],
   "source": [
    "df.count()"
   ]
  },
  {
   "cell_type": "code",
   "execution_count": null,
   "id": "fae62f5e-c674-4781-bbb0-dea889c8216c",
   "metadata": {},
   "outputs": [],
   "source": []
  }
 ],
 "metadata": {
  "kernelspec": {
   "display_name": "Python 3 (ipykernel)",
   "language": "python",
   "name": "python3"
  },
  "language_info": {
   "codemirror_mode": {
    "name": "ipython",
    "version": 3
   },
   "file_extension": ".py",
   "mimetype": "text/x-python",
   "name": "python",
   "nbconvert_exporter": "python",
   "pygments_lexer": "ipython3",
   "version": "3.11.4"
  }
 },
 "nbformat": 4,
 "nbformat_minor": 5
}
